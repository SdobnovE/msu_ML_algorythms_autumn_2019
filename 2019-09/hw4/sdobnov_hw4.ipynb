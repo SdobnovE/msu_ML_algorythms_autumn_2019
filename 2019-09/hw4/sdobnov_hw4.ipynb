{
 "cells": [
  {
   "cell_type": "markdown",
   "metadata": {},
   "source": [
    "# Алгоритмы интеллектуальной обработки больших объемов данных\n",
    "## Домашнее задание №4 - Алгоритмы кластеризации\n"
   ]
  },
  {
   "cell_type": "markdown",
   "metadata": {},
   "source": [
    "###### <hr\\>\n",
    "**Общая информация**\n",
    "\n",
    "**Срок сдачи:** 10 декабря 2019, 06:00 <br\\>\n",
    "**Штраф за опоздание:** -2 балла после 06:00 10 декабря, -4 балла после 06:00 17 декабря, -6 баллов после 06:00 24 декабря -8 баллов  после 06:00 31 декабря\n",
    "\n",
    "При отправлении ДЗ указывайте фамилию в названии файла Присылать ДЗ необходимо в виде ссылки на свой github репозиторий на почту ml1.sphere@mail.ru с указанием темы в следующем формате:\n",
    "[ML0919, Задание 4] Фамилия Имя\n",
    "\n",
    "Используйте данный Ipython Notebook при оформлении домашнего задания.\n",
    "<hr\\>"
   ]
  },
  {
   "cell_type": "markdown",
   "metadata": {},
   "source": [
    "**Из чего состоит задание:**\n",
    "\n",
    "###### Теоретические вопросы (2 балла)\n",
    "\n",
    "###### Реализация алгоритма кластеризации (5 баллов)\n",
    "\n",
    "###### Боевое применение (3 балла)\n",
    "\n",
    "\n"
   ]
  },
  {
   "cell_type": "markdown",
   "metadata": {},
   "source": [
    "**Штрафные баллы:**\n",
    "\n",
    "1. Невыполнение PEP8 -1 балл\n",
    "2. Отсутствие фамилии в имени скрипта (скрипт должен называться по аналогии со stroykova_hw4.ipynb) -1 балл\n",
    "3. Все строчки должны быть выполнены. Нужно, чтобы output команды можно было увидеть уже в git'е. В противном случае -1 балл\n",
    "4. При оформлении ДЗ нужно пользоваться данным файлом в качестве шаблона. Не нужно удалять и видоизменять написанный код и текст. В противном случае -1 балл"
   ]
  },
  {
   "cell_type": "code",
   "execution_count": 1,
   "metadata": {},
   "outputs": [
    {
     "name": "stdout",
     "output_type": "stream",
     "text": [
      "Populating the interactive namespace from numpy and matplotlib\n"
     ]
    }
   ],
   "source": [
    "import time\n",
    "import pandas as pd\n",
    "import pylab as pl\n",
    "import numpy as np\n",
    "import scipy.spatial as ss\n",
    "import sklearn.cluster as sc\n",
    "import sklearn.manifold as sm\n",
    "import sklearn.datasets as ds\n",
    "import sklearn.metrics as smt\n",
    "from sklearn.mixture import GaussianMixture\n",
    "from sklearn.cluster import AgglomerativeClustering\n",
    "\n",
    "import matplotlib.pyplot as plt\n",
    "\n",
    "%matplotlib inline\n",
    "\n",
    "plt.style.use('ggplot')\n",
    "plt.rcParams['figure.figsize'] = (12,5)\n",
    "\n",
    "# Plotting config\n",
    "%pylab inline"
   ]
  },
  {
   "cell_type": "markdown",
   "metadata": {},
   "source": [
    "# Теоретическое введение\n"
   ]
  },
  {
   "cell_type": "markdown",
   "metadata": {},
   "source": [
    "Основная задача кластерного анализа — разбиение исходного набора объектов на группы (кластеры) таким образом, чтобы объекты в группе были похожи друг на друга, а объекты из разных групп - отличались. \n",
    "\n",
    "В этой работе мы будем реализовывать агломеративную кластеризацию. "
   ]
  },
  {
   "cell_type": "markdown",
   "metadata": {
    "collapsed": true
   },
   "source": [
    "## Агломеративная кластеризация"
   ]
  },
  {
   "cell_type": "markdown",
   "metadata": {},
   "source": [
    "Иерархические алгоритмы кластеризации строят на выборке систему вложенных разбиений.  Наиболее часто испоьзуемые иерархические алгоритмы - агломеративные алгоритмы, которые строят ирархию по восходящей, то есть от момента, когда все элементы являются отдельными кластерами, до того момента, пока вся выборка не станет одним кластером."
   ]
  },
  {
   "cell_type": "markdown",
   "metadata": {},
   "source": [
    "Сам алгоритм описать можно примерно так:\n",
    "\n",
    "* начинаем с ситуации, когда каждый объект - отдельный кластер\n",
    "* на каждом шаге совмещаем два наиболее близких кластера\n",
    "* останавливаемся, когда получаем требуемое количество или единственный кластер"
   ]
  },
  {
   "cell_type": "markdown",
   "metadata": {},
   "source": [
    "\n",
    "В данной работе Вам предлагается реализовать три варианта расстояний между кластерами, по которым Вы определяете пару для слияния: \n",
    "* Single linkage\n",
    "$$ d_{min}(C_i, C_j) = \\min_{\\mathbf{x} \\in C_i, \\mathbf{x}' \\in C_j} \\|\\mathbf{x} -\\mathbf{x}' \\| $$\n",
    "\n",
    "* Complete linkage\n",
    "$$ d_{max}(C_i, C_j) = \\max_{\\mathbf{x} \\in C_i, \\mathbf{x}' \\in C_j} \\|\\mathbf{x} -\\mathbf{x}' \\| $$\n",
    "\n",
    "* Average linkage\n",
    "$$ d_{avg}(C_i, C_j) = \\frac{1}{n_i n_j}\\sum_{\\mathbf{x} \\in C_i}\\sum_{\\mathbf{x}' \\in C_j} \\|\\mathbf{x} -\\mathbf{x}' \\| $$\n",
    "\n",
    "Как считать расстояние $\\|\\mathbf{x} -\\mathbf{x}' \\|$ между объектами Вы должны выбрать сами.  Вы должны четко понимать, что выбор расстояния между объектами - самое важное в такого рода алгоритмах. Передавайте название расстояния в конструктор класса, а потом, в зависимости от названия, применяете ту или иную функцию для подсчета расстояния. \n",
    "\n"
   ]
  },
  {
   "cell_type": "markdown",
   "metadata": {},
   "source": [
    "Для того, чтобы на втором этапе нам не пересчитывать заново расстояния между всеми парами кластеров, можно использовать Формулы Ланса-Вильямса, которые позволяют посчитать расстояние между кластерами после объединения, используя только расстояния между кластерами до объедения.  Таким образом, достаточно будет посчитать расстояния только между всеми одноэлементными кластерами (первый этап), а затем пересчитывать расстояния при их объединении через \n",
    "формулы Ланса-Вильямса. \n",
    "\n",
    "Общая  формула выглядит так:\n",
    "$$ d(C_i \\cup C_j, C_k) = a_i \\cdot d(C_i, C_k) + a_j \\cdot d(C_j, C_k) + b \\cdot d(C_i, C_j) + c \\cdot |d(C_i, C_k) - d(C_j, C_k)|$$\n",
    "\n",
    "Можно показать, что все относительно разумные кластерные расстояния можно описать данной формулой. \n",
    "\n",
    "Для интересущих нас linkage:\n",
    "\n",
    "* single-linkage       $a_i = \\frac{1}{2}, a_j =  \\frac{1}{2}, b = 0, c =  - \\frac{1}{2} $\n",
    "\n",
    "* complete-linkage     $a_i = \\frac{1}{2}, a_j =  \\frac{1}{2}, b = 0, c =   \\frac{1}{2} $\n",
    "\n",
    "* average-linkage       $a_i = \\frac{|C_i|}{|C_i \\cup C_j|}, a_j =  \\frac{|C_j|}{|C_i \\cup C_j|}, b = 0, c = 0 $\n",
    "\n"
   ]
  },
  {
   "cell_type": "markdown",
   "metadata": {},
   "source": [
    "# Теоретические вопросы (2 балла)\n",
    "В этой части Вам будут предложены теоретичские вопросы и задачи по теме. Вы, конечно, можете списать их у своего товарища или найти решение в интернете, но учтите, что они обязательно войдут в теоретический коллоквиум. Лучше разобраться в теме сейчас и успешно ответить на коллоквиуме, чем списать, не разобравшись в материале, и быть терзаемым совестью. \n",
    "\n",
    "\n",
    "Формулы надо оформлять в формате **LaTeX**."
   ]
  },
  {
   "cell_type": "markdown",
   "metadata": {},
   "source": [
    "**Задача 1. Сходимость kmeans.**\n",
    "\n",
    "Докажите, что kmeans всегда сходится, и итераций не будет превышать $k^N$, где $k$ $-$ число кластеров, $N$ $-$ число объектов\n",
    "\n",
    "Подсказка: Вам стоит рассмотреть функционал, который минимизирует алгоритм, и подумать, как он изменяется на E шаге и на M шаге.\n",
    "\n"
   ]
  },
  {
   "cell_type": "markdown",
   "metadata": {},
   "source": [
    "Мы минимизируем функционал $\\sum_{n=1}^N\\sum_{k=1}^K r_{n, k}||x_{n} - \\mu_{k}||$.\n",
    "\n",
    "На первом шаге минимизируем по $r_{n,k}$(выбираем $argmin_{k=1,\\dots,K}(||x_{n} - \\mu_{k}||)$ и на этом месте ставим единицу, а на остальных 0).\n",
    "\n",
    "На втором шаге минимизируем по $\\mu_{k}$ когда берём $\\mu_k^{new} = \\frac{\\sum_{n}r_{n,k}x_{n}}{\\sum_{n}r_{n,k}}$ Очевидно, что функционал уменьшается, т.к. центр масс.\n",
    "\n",
    "Наш функционал как минимум >= 0 и каждый раз он уменьшается. По теореме Вейерштрасса есть сходимость\n",
    "\n",
    "Докажем, что сходимость меньше, чем $K^{N}$:\n",
    "\n",
    "Очевидно, что это полный перебор. Если было бы долше, то алгоритма бы не было ч.т.д."
   ]
  },
  {
   "cell_type": "markdown",
   "metadata": {},
   "source": [
    "А если серьёзно, то если каждый раз $\\mu_{k+1} \\neq \\mu_{k}$, то мы должны пробежать $K^{N}$ вариантов соответственно мы вернемся к первому значению функционала(всё время не возрастали, а тут вернулись в какое-то значение функционала, когда такое возможно? когда все значения функционала равны). Получили противоречие"
   ]
  },
  {
   "cell_type": "markdown",
   "metadata": {},
   "source": [
    "**Задача 2.  ММП для многомерного нормального распределения.**\n",
    "\n",
    "Функция правдоподобия в общем случае записывается как\n",
    "$$ L(\\theta) = p(X | \\theta ) = \\prod_{i=1}^N p(x_i | \\theta)$$\n",
    "\n",
    "Для многомерного нормального распределения плотность вероятности:\n",
    "$$p(x_i| \\theta) = \\frac{1}{(2\\pi)^{n/2}|\\Sigma|^{1/2}}e^{-\\frac{1}{2} (x_i - \\mu)^T\\Sigma^{-1}(x_i - \\mu)}$$\n",
    "\n",
    "Выведите ММП оценку для вектора $\\mu$"
   ]
  },
  {
   "cell_type": "markdown",
   "metadata": {},
   "source": [
    "$$\\sum_{i=1}^{L}\\ln(\\frac{1}{(2\\pi)^{n/2}|\\Sigma|^{1/2}}e^{-\\frac{1}{2} (x_i - \\mu)^T\\Sigma^{-1}(x_i - \\mu)}) \\rightarrow \\min$$"
   ]
  },
  {
   "cell_type": "markdown",
   "metadata": {},
   "source": [
    "$$(\\sum_{i=1}^L-\\frac{1}{2} (x_i - \\mu)^T\\Sigma^{-1}(x_i - \\mu))'_{\\mu} = 0$$"
   ]
  },
  {
   "cell_type": "markdown",
   "metadata": {},
   "source": [
    "$$\\sum_{i=1}^L-\\Sigma^{-1}x_{i} - (x_{i}^T\\Sigma^{-1})^T + \\Sigma^{-1}\\mu + (\\mu^T\\Sigma^{-1})^T = 0$$"
   ]
  },
  {
   "cell_type": "markdown",
   "metadata": {},
   "source": [
    "$$\\sum_{i=1}^L-\\Sigma^{-1}x_{i} - (\\Sigma^{-1})^T x_{i} + \\Sigma^{-1}\\mu + (\\Sigma^{-1})^T\\mu = 0$$"
   ]
  },
  {
   "cell_type": "markdown",
   "metadata": {},
   "source": [
    "$$L(\\Sigma^{-1} + (\\Sigma^{-1})^T)\\mu = (\\Sigma^{-1} + (\\Sigma^{-1})^T)\\sum_{i=1}^{L}x_{i}$$"
   ]
  },
  {
   "cell_type": "markdown",
   "metadata": {},
   "source": [
    "$$\\mu = \\frac{\\sum_{i=1}^{L}x_{i}}{L}$$"
   ]
  },
  {
   "cell_type": "markdown",
   "metadata": {},
   "source": [
    "обратная существует т.к. $$(A + A^T)^{-1} = \\frac{A^{-1}}{2}$$"
   ]
  },
  {
   "cell_type": "markdown",
   "metadata": {},
   "source": [
    "**Задача 3. Формулы Ланса-Вильямса.**\n",
    "\n",
    "Формулы Ланса-Вильямса крайне удобны для быстрого пересчта расстояний в агломеративной кластеризации. Давайте докажем  формулы для single и complete linkage. \n",
    "\n",
    "Докажите, что:\n",
    "\n",
    "$d_{\\min}(U \\cup V, S) = \\frac{1}{2} d_{\\min}(U, S) + \\frac{1}{2} d_{\\min}(V, S)  - \\frac{1}{2} | d_{\\min}(U, S) - d_{\\min}(V, S) |  $\n",
    "\n",
    "\n",
    "$d_{\\max}(U \\cup V, S) = \\frac{1}{2} d_{\\max}(U, S) + \\frac{1}{2} d_{\\max}(V, S)  + \\frac{1}{2} | d_{\\max}(U, S) - d_{\\max}(V, S) |  $\n",
    "\n",
    "\n"
   ]
  },
  {
   "cell_type": "markdown",
   "metadata": {},
   "source": [
    "**1-ая формула**"
   ]
  },
  {
   "cell_type": "markdown",
   "metadata": {},
   "source": [
    "Очевидно, что можно выделить всего три точки(A B C), из U, V и S для которых достигается минимум расстояний между US и VS. Тогда $d_{\\min}(U \\cup V, S)$ достигается либо на A либо на B. Очевидно, что формула будет верна"
   ]
  },
  {
   "cell_type": "markdown",
   "metadata": {},
   "source": [
    "$\\frac{1}{2} d_{\\min}(U, S) + \\frac{1}{2} d_{\\min}(V, S)  - \\frac{1}{2} | d_{\\min}(U, S) - d_{\\min}(V, S)| = \\frac{Min}{2} + \\frac{Max}{2} - \\frac{Max-Min}{2} = Min$"
   ]
  },
  {
   "cell_type": "markdown",
   "metadata": {},
   "source": [
    "где $Min $ и $ Max$ это минимальное и максимальное расстояние из минимумов расстояний между парами множеств"
   ]
  },
  {
   "cell_type": "markdown",
   "metadata": {},
   "source": [
    "**2-ая формула**"
   ]
  },
  {
   "cell_type": "markdown",
   "metadata": {},
   "source": [
    "Аналогично можно выделить три точки (A, B, C) на которых достигается $d_{\\max}(U \\cup V, S) $, $d_{\\max}(U, S)$, $d_{\\max}(V, S)$"
   ]
  },
  {
   "cell_type": "markdown",
   "metadata": {},
   "source": [
    "первый максимум доастигается на одной из двух точек в которых достигается максимум 2 и 3"
   ]
  },
  {
   "cell_type": "markdown",
   "metadata": {},
   "source": [
    "$\\frac{1}{2} d_{\\max}(U, S) + \\frac{1}{2} d_{\\max}(V, S)  + \\frac{1}{2} | d_{\\max}(U, S) - d_{\\max}(V, S) | = \\frac{Min}{2} + \\frac{Max}{2} + \\frac{Max-Min}{2} = Max$"
   ]
  },
  {
   "cell_type": "markdown",
   "metadata": {},
   "source": [
    "где $Min $ и $ Max$ это минимальное и максимальное расстояние из максимумов расстояний между парами множеств"
   ]
  },
  {
   "cell_type": "code",
   "execution_count": null,
   "metadata": {},
   "outputs": [],
   "source": []
  },
  {
   "cell_type": "code",
   "execution_count": null,
   "metadata": {},
   "outputs": [],
   "source": []
  },
  {
   "cell_type": "markdown",
   "metadata": {},
   "source": [
    "# Реализация алгоритма кластеризации  (5 баллов)"
   ]
  },
  {
   "cell_type": "markdown",
   "metadata": {},
   "source": [
    "Алгоритм кластеризации должен удовлетворять следующему интерфейсу. Конструктор принимает набор параметров, необходимых для работы алгоритма кластеризации. Метод `fit` подсчитывает параметры модели и возвращает `self`. Метод `predict` возвращает вектор с индексами кластеров для поданных в него объектов `x`. "
   ]
  },
  {
   "cell_type": "code",
   "execution_count": null,
   "metadata": {},
   "outputs": [],
   "source": []
  },
  {
   "cell_type": "code",
   "execution_count": null,
   "metadata": {},
   "outputs": [],
   "source": []
  },
  {
   "cell_type": "code",
   "execution_count": null,
   "metadata": {},
   "outputs": [],
   "source": []
  },
  {
   "cell_type": "code",
   "execution_count": 2,
   "metadata": {},
   "outputs": [],
   "source": [
    "from sklearn.base import BaseEstimator, ClusterMixin\n",
    "import sklearn\n",
    "from scipy.spatial import distance as dist_sci\n",
    "from scipy.cluster.hierarchy import dendrogram\n",
    "\n",
    "class Clustering(BaseEstimator, ClusterMixin):\n",
    "    \"\"\"\n",
    "    Implement clustering algorithm according \n",
    "    \"\"\"\n",
    "    \n",
    "    \n",
    "    \n",
    "    def __init__(self, metric, **kwargs):\n",
    "        \"\"\"\n",
    "        metric - string with name of metric, for example, euclidean\n",
    "        Please add necessary algoritm parameters to class constructor.\n",
    "        \"\"\"\n",
    "        if metric is  None:\n",
    "            metric = \"euclidian\"\n",
    "        \n",
    "        \n",
    "        distance = None\n",
    "        num_clusters = None\n",
    "        for key, value in kwargs.items():\n",
    "            \n",
    "            if key == \"distance\":\n",
    "                distance = value\n",
    "                \n",
    "            if key == \"num_clusters\":\n",
    "                num_clusters = value\n",
    "                \n",
    "            \n",
    "        if distance is None:\n",
    "            distance = \"single\"\n",
    "            \n",
    "        if num_clusters is None:\n",
    "            num_clusters = 5\n",
    "            \n",
    "         \n",
    "        \n",
    "        self.num_clusters = num_clusters\n",
    "        \n",
    "        \n",
    "        if distance == \"single\":\n",
    "            \n",
    "            self.distance = self.single\n",
    "            \n",
    "        elif distance == \"complete\":\n",
    "            self.distance = self.complete\n",
    "        \n",
    "        elif distance == \"average\":\n",
    "            self.distance = self.average\n",
    "        else:\n",
    "            raise \n",
    "        \n",
    "        \n",
    "        \n",
    "        if metric == \"euclidian\":\n",
    "            self.metric = metric\n",
    "            \n",
    "        elif metric == \"cosine\":\n",
    "            self.metric = metric \n",
    "            \n",
    "        else:\n",
    "            raise\n",
    "        \n",
    "    def single(self, x):\n",
    "        return x.min()\n",
    "        \n",
    "    \n",
    "    def complete(self, x):\n",
    "        return x.max()\n",
    "    \n",
    "    def average(self, x):\n",
    "        return x.mean()\n",
    "        \n",
    "    def fit_predict(self, X):\n",
    "        \"\"\"\n",
    "        Use data matrix x to compute model parameters and predict clusters\n",
    "        \"\"\"\n",
    "        X = np.array(X)\n",
    "        \n",
    "        self.tree = []\n",
    "        self.merge = []\n",
    "        self.tree = np.array([i for i in range(X.shape[0])])\n",
    "        cnt = X.shape[0]\n",
    "        \n",
    "        num_clusters = X.shape[0]\n",
    "        preds = 0\n",
    "        \n",
    "        self.distances = sklearn.metrics.pairwise_distances(X, X, metric=self.metric)\n",
    "        self.dendro = []\n",
    "        \n",
    "        while num_clusters > 1:\n",
    "            clusters = np.unique(self.tree)\n",
    "            Min = -1\n",
    "            I = 0\n",
    "            J = 0\n",
    "            numbers_on_top = self.tree\n",
    "            \n",
    "            \n",
    "            for i in range(clusters.shape[0]):\n",
    "                for j in range(i + 1, clusters.shape[0]):\n",
    "                    a = numbers_on_top == clusters[i]\n",
    "                    b = numbers_on_top == clusters[j]\n",
    "                    \n",
    "                    dis = self.distances[a][:,b]\n",
    "                    dis = self.distance(dis)\n",
    "                    if Min == -1:\n",
    "                        Min = dis\n",
    "                        I = clusters[i]\n",
    "                        J = clusters[j]\n",
    "                    elif Min > dis:\n",
    "                        Min = dis\n",
    "                        I = clusters[i]\n",
    "                        J = clusters[j]\n",
    "            \n",
    "            \n",
    "            a = self.tree\n",
    "            \n",
    "            self.tree = np.where((a != I) &( a != J), a, cnt)[:] \n",
    "            a = self.tree\n",
    "            self.dendro.append([I, J, Min, a[a==cnt].shape[0]])\n",
    "            cnt+=1\n",
    "            if num_clusters -1 == self.num_clusters:\n",
    "                \n",
    "                preds = self.tree\n",
    "                \n",
    "                uni = np.unique(preds)\n",
    "                \n",
    "                for i in range(uni.shape[0]):\n",
    "                    preds = np.where(preds != uni[i],preds, i)\n",
    "                \n",
    "            num_clusters-=1\n",
    "            a = self.tree\n",
    "            \n",
    "            \n",
    "        \n",
    "        return preds\n",
    "    \n",
    "    def plot_dendrogram(self,labels):\n",
    "        \"\"\"\n",
    "        Try to visualize our data\n",
    "        \"\"\"\n",
    "        \n",
    "        return dendrogram(np.array(self.dendro).astype(float), \n",
    "                                                  labels=labels, \n",
    "                                                  leaf_rotation=True,\n",
    "                                                  leaf_font_size=10)\n",
    "        "
   ]
  },
  {
   "cell_type": "markdown",
   "metadata": {},
   "source": [
    "Сначала проверим реализованный алгоритм кластеризации на классическом наборе данных [Iris](http://www.wikiwand.com/en/Iris_flower_data_set). Загрузим данные (они включены в библиотеку sklearn) и посмотрим на то, как они выглядят в двух проекциях (для простоты используем 2 класса из 3)."
   ]
  },
  {
   "cell_type": "code",
   "execution_count": 3,
   "metadata": {},
   "outputs": [
    {
     "data": {
      "image/png": "[encoded data removed]",
      "text/plain": [
       "<Figure size 720x360 with 2 Axes>"
      ]
     },
     "metadata": {
      "needs_background": "light"
     },
     "output_type": "display_data"
    }
   ],
   "source": [
    "iris = ds.load_iris()\n",
    "x_iris = iris.data[:100]\n",
    "y_iris = iris.target[:100]\n",
    "\n",
    "pl.figure(figsize=(10, 5))\n",
    "\n",
    "pl.subplot(1, 2, 1)\n",
    "pl.scatter(x_iris[:, 0], x_iris[:, 1], c=y_iris, cmap=pl.cm.PuOr, lw=0, s=30)\n",
    "plt.xlabel('Sepal length')\n",
    "plt.ylabel('Sepal width')\n",
    "\n",
    "pl.subplot(1, 2, 2)\n",
    "pl.scatter(x_iris[:, 2], x_iris[:, 3], c=y_iris, cmap=pl.cm.PuOr, lw=0, s=30)\n",
    "plt.xlabel('Petal length')\n",
    "plt.ylabel('Petal width')\n",
    "pl.show()"
   ]
  },
  {
   "cell_type": "markdown",
   "metadata": {},
   "source": [
    "Видно, что классы разделяются, поэтому можно надеяться, что наш алгоритм \"найдет\" кластеры, соответствующие исходным классам. Результат работы реализованного алгоритма кластеризации предлагается сравнить с эталонной кластеризацией. Для этого предлагается изучить метрику ([adjusted rand score](http://scikit-learn.org/stable/modules/generated/sklearn.metrics.adjusted_rand_score.html)). В случае если значение этой метрики отличается от 1, предлагается поработать над улучшением реализации своего алгоритма."
   ]
  },
  {
   "cell_type": "code",
   "execution_count": 4,
   "metadata": {},
   "outputs": [
    {
     "name": "stdout",
     "output_type": "stream",
     "text": [
      " Sklearn AGGL score 1.0. Sklearn AGGL time 0.0014133453369140625\n"
     ]
    }
   ],
   "source": [
    "# Давайте проверим, как справляются sklearn реализации\n",
    "sklearn_aggl = AgglomerativeClustering(n_clusters=2)\n",
    "aggl_t0 = time.time()\n",
    "aggl_pred = sklearn_aggl.fit_predict(x_iris)\n",
    "aggl_diff = time.time() - aggl_t0\n",
    "aggl_score = smt.adjusted_rand_score(y_iris, aggl_pred)\n",
    "print (\" Sklearn AGGL score {}. Sklearn AGGL time {}\".format(aggl_score, aggl_diff))"
   ]
  },
  {
   "cell_type": "code",
   "execution_count": 5,
   "metadata": {},
   "outputs": [
    {
     "name": "stdout",
     "output_type": "stream",
     "text": [
      "Our AGGL score 1.0. Our AGGL time 1.5491538047790527\n"
     ]
    }
   ],
   "source": [
    "# Здесь предскажем кластера, посчитаем метрику кластеризации и время работы, сравним со склерном\n",
    "custum_aggl = Clustering(metric='cosine', num_clusters=2)\n",
    "aggl_t0 = time.time()\n",
    "aggl_pred = custum_aggl.fit_predict(x_iris)\n",
    "aggl_diff = time.time() - aggl_t0\n",
    "aggl_score = smt.adjusted_rand_score(y_iris, aggl_pred)\n",
    "print (\"Our AGGL score {}. Our AGGL time {}\".format(aggl_score, aggl_diff))\n"
   ]
  },
  {
   "cell_type": "code",
   "execution_count": null,
   "metadata": {},
   "outputs": [],
   "source": []
  },
  {
   "cell_type": "markdown",
   "metadata": {
    "collapsed": true
   },
   "source": [
    "# Боевое применение (3  балла)\n"
   ]
  },
  {
   "cell_type": "markdown",
   "metadata": {
    "collapsed": true
   },
   "source": [
    "Алгоритмы кластеризации прекрасны тем, что они позволяют быстро понять, как устроены наши данные. Давайте применим Ваш алгоритм для нашего конкурса!"
   ]
  },
  {
   "cell_type": "markdown",
   "metadata": {},
   "source": [
    "Будем рассматривать каждую группу независимо от других групп. На каждой группе применим наш алгоритм и отрисуем денденограмму. По результатам кластерного анализа, Вам нужно ответить на следующие вопросы:\n",
    "\n",
    "1) Можно ли по дендонаграмме (или по другим результатам кластеризации) сказать, где в группе аномалии? Каким образом?\n",
    "\n",
    "2) Какое расстояние лучше использовать между заголовками страниц для кластеризации? \n",
    "\n",
    "2) Какое качество f1_score Вы смогли получить на обучающем множестве методами кластеризации? (валидацию можете не делать, если таргет не используете)\n",
    "\n",
    "4) Как можно результат кластеризации затем использовать для  финальной модели обучения с учителем?"
   ]
  },
  {
   "cell_type": "markdown",
   "metadata": {},
   "source": [
    "Подсказка: самое важное - выбрать расстояние между заголовками. Самый простой вариант:  процент различных слов в двух заголовках."
   ]
  },
  {
   "cell_type": "markdown",
   "metadata": {},
   "source": [
    "**Ответы**"
   ]
  },
  {
   "cell_type": "markdown",
   "metadata": {},
   "source": [
    "1) Можно. Если в самом начале(последние объединения) единичные вершины или очень маленькие кластеры присоединяются к большим\n",
    "\n",
    "2) Лучше всего использовать косинусовое расстояние\n",
    "\n",
    "3) 0.69\n",
    "\n",
    "4) Можно результат кластеризации закинуть в качестве фичи к матрице (она очень хорошо коррелирует с вектором ответов в случае задачи классификации)"
   ]
  },
  {
   "cell_type": "code",
   "execution_count": null,
   "metadata": {},
   "outputs": [],
   "source": []
  },
  {
   "cell_type": "code",
   "execution_count": 94,
   "metadata": {},
   "outputs": [],
   "source": [
    "from sklearn.feature_extraction.text import TfidfVectorizer\n",
    "from sklearn.metrics import f1_score\n",
    "from sklearn.cluster import DBSCAN\n",
    "from pymystem3 import Mystem\n",
    "from nltk.corpus import stopwords\n",
    "import scipy"
   ]
  },
  {
   "cell_type": "markdown",
   "metadata": {},
   "source": [
    "**У меня уже есть предобработанные заголовки, воспользуюсь ими**"
   ]
  },
  {
   "cell_type": "code",
   "execution_count": 95,
   "metadata": {},
   "outputs": [],
   "source": [
    "data = pd.read_csv(\"TitlesTrain.csv\")\n",
    "\n",
    "y_train = np.array(data[\"target\"])\n",
    "groups_train = np.array(data[\"group\"])\n",
    "texts = np.array(data[\"information\"])"
   ]
  },
  {
   "cell_type": "code",
   "execution_count": 96,
   "metadata": {},
   "outputs": [
    {
     "data": {
      "text/html": [
       "<div>\n",
       "<style scoped>\n",
       "    .dataframe tbody tr th:only-of-type {\n",
       "        vertical-align: middle;\n",
       "    }\n",
       "\n",
       "    .dataframe tbody tr th {\n",
       "        vertical-align: top;\n",
       "    }\n",
       "\n",
       "    .dataframe thead th {\n",
       "        text-align: right;\n",
       "    }\n",
       "</style>\n",
       "<table border=\"1\" class=\"dataframe\">\n",
       "  <thead>\n",
       "    <tr style=\"text-align: right;\">\n",
       "      <th></th>\n",
       "      <th>doc_id</th>\n",
       "      <th>title</th>\n",
       "      <th>group_id</th>\n",
       "      <th>target</th>\n",
       "    </tr>\n",
       "  </thead>\n",
       "  <tbody>\n",
       "    <tr>\n",
       "      <th>0</th>\n",
       "      <td>15731</td>\n",
       "      <td>ваз         замена подшипник ступица   нива\\n</td>\n",
       "      <td>1</td>\n",
       "      <td>0</td>\n",
       "    </tr>\n",
       "    <tr>\n",
       "      <th>1</th>\n",
       "      <td>14829</td>\n",
       "      <td>ваз      опт  сочи  сравнивать цена  купить по...</td>\n",
       "      <td>1</td>\n",
       "      <td>0</td>\n",
       "    </tr>\n",
       "    <tr>\n",
       "      <th>2</th>\n",
       "      <td>15764</td>\n",
       "      <td>купить ступица лад калина   трансмиссия   пере...</td>\n",
       "      <td>1</td>\n",
       "      <td>0</td>\n",
       "    </tr>\n",
       "    <tr>\n",
       "      <th>3</th>\n",
       "      <td>17669</td>\n",
       "      <td>классика              \\n</td>\n",
       "      <td>1</td>\n",
       "      <td>0</td>\n",
       "    </tr>\n",
       "    <tr>\n",
       "      <th>4</th>\n",
       "      <td>14852</td>\n",
       "      <td>ступица нива   замена подшипник свой рука\\n</td>\n",
       "      <td>1</td>\n",
       "      <td>0</td>\n",
       "    </tr>\n",
       "  </tbody>\n",
       "</table>\n",
       "</div>"
      ],
      "text/plain": [
       "   doc_id                                              title  group_id  target\n",
       "0   15731      ваз         замена подшипник ступица   нива\\n         1       0\n",
       "1   14829  ваз      опт  сочи  сравнивать цена  купить по...         1       0\n",
       "2   15764  купить ступица лад калина   трансмиссия   пере...         1       0\n",
       "3   17669                           классика              \\n         1       0\n",
       "4   14852        ступица нива   замена подшипник свой рука\\n         1       0"
      ]
     },
     "execution_count": 96,
     "metadata": {},
     "output_type": "execute_result"
    }
   ],
   "source": [
    "table.head()"
   ]
  },
  {
   "cell_type": "code",
   "execution_count": 97,
   "metadata": {},
   "outputs": [],
   "source": [
    "\n",
    "for i in range(len(texts)):\n",
    "    if texts[i] is  np.nan:\n",
    "        texts[i] = \"\"\n",
    "    "
   ]
  },
  {
   "cell_type": "code",
   "execution_count": 98,
   "metadata": {},
   "outputs": [
    {
     "data": {
      "text/plain": [
       "array(['ваз 21213   замена подшипник ступица   нива \\n',\n",
       "       ' ваз 2107 опт  сочи  сравнивать цена  купить потребительский товар  tiu  \\n',\n",
       "       'купить ступица лад калина2  трансмиссия   переходный ступица цена  замена  тюнинг  \\n',\n",
       "       ..., 'jizolofej  archive \\n',\n",
       "       ' звать парень диана шурыгина   пусть говорить  диана шурыгина \\n',\n",
       "       'культура   шоубиз    визит  ревизорро   смоленск обертываться драка  распыление газ    сми express \\n'],\n",
       "      dtype=object)"
      ]
     },
     "execution_count": 98,
     "metadata": {},
     "output_type": "execute_result"
    }
   ],
   "source": [
    "texts"
   ]
  },
  {
   "cell_type": "code",
   "execution_count": 100,
   "metadata": {},
   "outputs": [],
   "source": [
    "clf = TfidfVectorizer()\n",
    "X_train = clf.fit_transform(texts)\n",
    "X_train = X_train.todense()\n"
   ]
  },
  {
   "cell_type": "code",
   "execution_count": null,
   "metadata": {
    "scrolled": true
   },
   "outputs": [],
   "source": []
  },
  {
   "cell_type": "code",
   "execution_count": 102,
   "metadata": {
    "scrolled": true
   },
   "outputs": [
    {
     "data": {
      "image/png": "[encoded data removed]",
      "text/plain": [
       "<Figure size 1080x432 with 1 Axes>"
      ]
     },
     "metadata": {
      "needs_background": "light"
     },
     "output_type": "display_data"
    }
   ],
   "source": [
    "X = X_train[groups == 10]\n",
    "y = y_train[groups == 10]\n",
    "#     print(X.shape)\n",
    "alg = Clustering(metric=\"cosine\", n_clusters=2, distance=\"single\")\n",
    "\n",
    "alg.fit_predict(X)\n",
    "fig, axes = plt.subplots(1, figsize=(15, 6))\n",
    "alg.plot_dendrogram(y)\n",
    "plt.show()\n"
   ]
  },
  {
   "cell_type": "markdown",
   "metadata": {},
   "source": [
    "**Эта дендрограмма, как и многие другие показывает, что в наших данных очень много шума. Невыбросы в начале довольно хорошо кластеризуется**"
   ]
  },
  {
   "cell_type": "code",
   "execution_count": 103,
   "metadata": {},
   "outputs": [],
   "source": [
    "# X = data[new_groups == 2]\n",
    "# y = new_target[new_groups == 2]\n",
    "# #     print(X.shape)\n",
    "# num = int(y.shape[0] * 0.75)\n",
    "# alg = Clustering(metric=\"cosine\", num_clusters=num, distance=\"single\")\n",
    "\n",
    "# res = alg.fit_predict(X)\n",
    "# uniq, cnt = np.unique(res, return_counts=True)\n",
    "# print(res)\n",
    "# Max = uniq[cnt.argmax()]\n",
    "# for i in range(res.shape[0]):\n",
    "#     if res[i] == Max:\n",
    "#         res[i] = 1\n",
    "#     else:\n",
    "#         res[i] = 0\n",
    "# f1_score(res, y)\n"
   ]
  },
  {
   "cell_type": "code",
   "execution_count": 134,
   "metadata": {},
   "outputs": [
    {
     "name": "stdout",
     "output_type": "stream",
     "text": [
      "0.33333333333333337\n",
      "0.0\n",
      "0.0\n",
      "0.43750000000000006\n",
      "0.0\n",
      "0.5428571428571429\n",
      "0.0\n",
      "0.07142857142857144\n",
      "0.35714285714285715\n",
      "0.3673469387755102\n",
      "0.3684210526315789\n",
      "0.4799999999999999\n",
      "0.25\n",
      "0.5555555555555556\n",
      "0.0\n",
      "0.0\n",
      "0.05333333333333332\n",
      "0.5238095238095238\n",
      "0.7000000000000001\n",
      "0.0\n",
      "0.33333333333333337\n",
      "0.5523809523809524\n",
      "0.5121951219512195\n",
      "0.6516853932584269\n",
      "0.23809523809523808\n",
      "0.5769230769230769\n",
      "0.0\n",
      "0.0\n",
      "0.0\n",
      "0.0\n",
      "0.0\n",
      "0.0\n",
      "0.5573770491803279\n",
      "0.5287356321839082\n",
      "0.0\n",
      "0.0\n",
      "0.2857142857142857\n",
      "0.0\n",
      "0.0\n",
      "0.0\n",
      "0.0\n",
      "0.0\n",
      "0.3243243243243243\n",
      "0.0\n",
      "0.4918032786885246\n",
      "0.0\n",
      "0.4878048780487805\n",
      "0.45454545454545453\n",
      "0.0625\n",
      "0.5614035087719299\n",
      "0.2631578947368421\n",
      "0.5849056603773585\n",
      "0.43478260869565216\n",
      "0.0\n",
      "0.4\n",
      "0.0\n",
      "0.6486486486486487\n",
      "0.0\n",
      "0.0\n",
      "0.6138613861386139\n",
      "0.41379310344827586\n",
      "0.0\n",
      "0.0\n",
      "0.3829787234042553\n",
      "0.0\n",
      "0.0\n",
      "0.65\n",
      "0.0\n",
      "0.5849056603773585\n",
      "0.0\n",
      "0.0\n",
      "0.0\n",
      "0.0\n",
      "0.0\n",
      "0.375\n",
      "0.3125\n",
      "0.06000000000000001\n",
      "0.37837837837837834\n",
      "0.0\n",
      "0.6461538461538462\n",
      "0.0909090909090909\n",
      "0.3125\n",
      "0.12903225806451613\n",
      "0.3846153846153846\n",
      "0.4615384615384615\n",
      "0.14492753623188404\n",
      "0.09375000000000001\n",
      "0.0\n",
      "0.3902439024390244\n",
      "0.391304347826087\n",
      "0.3902439024390244\n",
      "0.0\n",
      "0.0\n",
      "0.0\n",
      "0.5517241379310345\n",
      "0.20512820512820512\n",
      "0.6575342465753425\n",
      "0.35294117647058826\n",
      "0.0\n",
      "0.5686274509803922\n",
      "0.0\n",
      "0.3414634146341463\n",
      "0.0\n",
      "0.0\n",
      "0.39999999999999997\n",
      "0.0\n",
      "0.0\n",
      "0.33333333333333337\n",
      "0.0\n",
      "0.05333333333333332\n",
      "0.6153846153846154\n",
      "0.4\n",
      "0.20512820512820512\n",
      "0.07999999999999999\n",
      "0.625\n",
      "0.0\n",
      "0.0\n",
      "0.7021276595744681\n",
      "0.0\n",
      "0.5116279069767442\n",
      "0.4666666666666668\n",
      "0.10810810810810811\n",
      "0.08333333333333333\n",
      "0.04395604395604395\n",
      "0.34285714285714286\n",
      "0.5\n",
      "0.0\n",
      "0.13043478260869565\n",
      "0.0\n",
      "0.2284991503385293\n"
     ]
    }
   ],
   "source": [
    "mean_f1 = 0\n",
    "final_res = []\n",
    "for i1 in range(1, 130):\n",
    "    X = X_train[groups_train == i1]\n",
    "    y = y_train[groups_train == i1]\n",
    "    #     print(X.shape)\n",
    "    num = int(y.shape[0] * 0.6)\n",
    "    alg = Clustering(metric=\"cosine\", num_clusters=num, distance=\"single\")\n",
    "\n",
    "    res = alg.fit_predict(X)\n",
    "    \n",
    "    uniq, cnt = np.unique(res, return_counts=True)\n",
    "\n",
    "    Max = np.partition(res, 2)[-2:]\n",
    "    for i in range(res.shape[0]):\n",
    "        if res[i] in Max:\n",
    "            res[i] = 1\n",
    "        else:\n",
    "            res[i] = 0\n",
    "    mean_f1 += f1_score(y,res)\n",
    "    print(f1_score(y, res))\n",
    "    final_res += list(res)\n",
    "    \n",
    "print(mean_f1 / 129)\n",
    "    \n",
    "    "
   ]
  },
  {
   "cell_type": "code",
   "execution_count": 135,
   "metadata": {},
   "outputs": [
    {
     "data": {
      "text/plain": [
       "0.245125348189415"
      ]
     },
     "execution_count": 135,
     "metadata": {},
     "output_type": "execute_result"
    }
   ],
   "source": [
    "f1_score(target,final_res)"
   ]
  },
  {
   "cell_type": "markdown",
   "metadata": {},
   "source": [
    "В выделении кластеров с помощью аггломеративной кластеризации я пытался подобрать число кластеров так, чтобы образовались кластеры с невыбросами и при этом, чтобы они имели наибольшой размер среди образовавшихся кластеров. В некоторых группах всё было норм, а в некоторых совсем плохо. Финальный скор очень плох."
   ]
  },
  {
   "cell_type": "code",
   "execution_count": null,
   "metadata": {},
   "outputs": [],
   "source": []
  },
  {
   "cell_type": "code",
   "execution_count": null,
   "metadata": {},
   "outputs": [],
   "source": []
  },
  {
   "cell_type": "code",
   "execution_count": null,
   "metadata": {},
   "outputs": [],
   "source": []
  },
  {
   "cell_type": "code",
   "execution_count": null,
   "metadata": {},
   "outputs": [],
   "source": []
  },
  {
   "cell_type": "code",
   "execution_count": 117,
   "metadata": {},
   "outputs": [
    {
     "name": "stdout",
     "output_type": "stream",
     "text": [
      "0.5927695026991388 0.6989453499520614\n"
     ]
    }
   ],
   "source": [
    "res1 = []\n",
    "for i in np.unique(groups_train):\n",
    "    X_ = X_train[groups_train == i]\n",
    "\n",
    "    clf = DBSCAN(0.495, metric=\"cosine\", min_samples=7)\n",
    "    res = clf.fit_predict(X_)\n",
    "\n",
    "\n",
    "    for j in range(len(res)):\n",
    "        if res[j] == -1:\n",
    "            res[j] = 0\n",
    "        else:\n",
    "            res[j] = 1\n",
    "        res1.append(res[j])\n",
    "\n",
    "corr = np.corrcoef(y_train, res1)[0,1]\n",
    "print(corr, f1_score(res1, data[\"target\"]))"
   ]
  },
  {
   "cell_type": "markdown",
   "metadata": {},
   "source": [
    "**С помощью агломеративной кластеризации и кластеризации невыбросов ничего путного получить не удалось. А вот используя DBSCAN и кластеризации выбросов, подобрав параметры удалось получить точность 0.69 на трейне (на тесте тоже что-то около того)**"
   ]
  },
  {
   "cell_type": "markdown",
   "metadata": {},
   "source": [
    "Кластеризацию проводите в каждой группе отдельно, то есть изучайте, можно ли в группе  найти подкластер выбросов\n",
    "\n",
    "Документы можно представлять, например, словами из тайтла.\n",
    "\n",
    "Главное подобрать хорошую функцию расстояния между документами\n"
   ]
  },
  {
   "cell_type": "markdown",
   "metadata": {},
   "source": [
    "Замечание: в кластеризации можно использовать все данные, то есть трейн + тест, чтобы находить больше закономерностей "
   ]
  },
  {
   "cell_type": "code",
   "execution_count": 11,
   "metadata": {
    "collapsed": true
   },
   "outputs": [],
   "source": [
    "# Место для Вашего кластерного анализа\n"
   ]
  },
  {
   "cell_type": "code",
   "execution_count": null,
   "metadata": {
    "collapsed": true
   },
   "outputs": [],
   "source": []
  },
  {
   "cell_type": "code",
   "execution_count": null,
   "metadata": {
    "collapsed": true
   },
   "outputs": [],
   "source": []
  },
  {
   "cell_type": "markdown",
   "metadata": {
    "collapsed": true
   },
   "source": [
    "Если получилось найти выбросы с помощью кластеризации, то не забывайте использовать его в финальном решении. Помните - использование различных подходов к решению задачи всегда улучшает финального качество."
   ]
  },
  {
   "cell_type": "markdown",
   "metadata": {
    "collapsed": true
   },
   "source": []
  },
  {
   "cell_type": "markdown",
   "metadata": {},
   "source": [
    "Здесь Вы можете оставить отзыв о этой домашней работе или о всем курсе.   "
   ]
  },
  {
   "cell_type": "markdown",
   "metadata": {},
   "source": [
    "*** ВАШ ОТЗЫВ ЗДЕСЬ***"
   ]
  },
  {
   "cell_type": "markdown",
   "metadata": {
    "collapsed": true
   },
   "source": []
  },
  {
   "cell_type": "markdown",
   "metadata": {
    "collapsed": true
   },
   "source": []
  }
 ],
 "metadata": {
  "anaconda-cloud": {},
  "kernelspec": {
   "display_name": "Python 3",
   "language": "python",
   "name": "python3"
  },
  "language_info": {
   "codemirror_mode": {
    "name": "ipython",
    "version": 3
   },
   "file_extension": ".py",
   "mimetype": "text/x-python",
   "name": "python",
   "nbconvert_exporter": "python",
   "pygments_lexer": "ipython3",
   "version": "3.7.5"
  }
 },
 "nbformat": 4,
 "nbformat_minor": 1
}
